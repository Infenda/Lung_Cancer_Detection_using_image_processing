{
  "cells": [
    {
      "cell_type": "code",
      "execution_count": null,
      "metadata": {
        "id": "6rDQXvOE3VHZ",
        "colab": {
          "base_uri": "https://localhost:8080/"
        },
        "outputId": "e943e81c-22d0-4874-c928-1993cdbdd898"
      },
      "outputs": [
        {
          "output_type": "stream",
          "name": "stdout",
          "text": [
            "Drive already mounted at /content/drive; to attempt to forcibly remount, call drive.mount(\"/content/drive\", force_remount=True).\n"
          ]
        }
      ],
      "source": [
        "from google.colab import drive\n",
        "drive.mount('/content/drive')"
      ]
    },
    {
      "cell_type": "markdown",
      "source": [
        "Importing all the required packages"
      ],
      "metadata": {
        "id": "4GosFG1T-SAP"
      }
    },
    {
      "cell_type": "code",
      "execution_count": null,
      "metadata": {
        "id": "VgPd1fjcOKlg"
      },
      "outputs": [],
      "source": [
        "import pandas as pd\n",
        "from sklearn import svm\n",
        "from sklearn.model_selection import GridSearchCV\n",
        "import os\n",
        "import matplotlib.pyplot as plt\n",
        "from skimage.transform import resize\n",
        "from skimage.io import imread\n",
        "import numpy as np\n",
        "from sklearn.model_selection import train_test_split\n",
        "from sklearn.metrics import classification_report,accuracy_score\n",
        "import pickle"
      ]
    },
    {
      "cell_type": "code",
      "execution_count": null,
      "metadata": {
        "colab": {
          "base_uri": "https://localhost:8080/"
        },
        "id": "umZtNj4CTllG",
        "outputId": "7e27c717-294e-4369-fcd0-35ef9a154a7b"
      },
      "outputs": [
        {
          "name": "stdout",
          "output_type": "stream",
          "text": [
            "Type y to give categories or type n to go with classification of bengin, malignant and normal cases\n",
            "n\n"
          ]
        }
      ],
      "source": [
        "Categories=['Bengin_cases','Malignant_cases','Normal cases']\n",
        "print(\"Type y to give categories or type n to go with classification of bengin, malignant and normal cases\");\n",
        "\n",
        "while(True):\n",
        "  check=input()\n",
        "  if(check=='n' or check=='y'):\n",
        "    break\n",
        "  print(\"Please give a valid input (y/n)\")\n",
        "if(check=='y'):\n",
        "  print(\"Enter How Many types of Images do you want to classify\")\n",
        "  n=int(input())\n",
        "  Categories=[]\n",
        "  print(f'please enter {n} names')\n",
        "  for i in range(n):\n",
        "    name=input()\n",
        "    Categories.append(name)\n",
        "  print(f\"If not drive Please upload all the {n} category images in google collab with the same names as given in categories\")\n",
        "\n"
      ]
    },
    {
      "cell_type": "code",
      "source": [
        "flat_data_arr=[]\n",
        "target_arr=[]\n",
        "datadir='/content/drive/MyDrive/Projects/Lung cancer detection using image processing/The IQ-OTHNCCD lung cancer dataset'\n",
        "for i in Categories:\n",
        "  print(f'loading... category : {i}')\n",
        "  path=os.path.join(datadir,i)\n",
        "  for img in os.listdir(path):\n",
        "    img_array=imread(os.path.join(path,img))\n",
        "    img_resized=resize(img_array,(150,150,3))\n",
        "    flat_data_arr.append(img_resized.flatten())\n",
        "    target_arr.append(Categories.index(i))\n",
        "  print(f'loaded category:{i} successfully')\n",
        "flat_data=np.array(flat_data_arr)\n",
        "target=np.array(target_arr)\n",
        "df=pd.DataFrame(flat_data)\n",
        "df['Target']=target\n",
        "df"
      ],
      "metadata": {
        "id": "coPl6VCN6hIx",
        "colab": {
          "base_uri": "https://localhost:8080/",
          "height": 591
        },
        "outputId": "a0b9711a-dded-4e3d-ed42-72d54e1b6480"
      },
      "execution_count": null,
      "outputs": [
        {
          "output_type": "stream",
          "name": "stdout",
          "text": [
            "loading... category : Bengin_cases\n",
            "loaded category:Bengin_cases successfully\n",
            "loading... category : Malignant_cases\n",
            "loaded category:Malignant_cases successfully\n",
            "loading... category : Normal cases\n",
            "loaded category:Normal cases successfully\n"
          ]
        },
        {
          "output_type": "execute_result",
          "data": {
            "text/plain": [
              "            0        1        2        3        4        5        6        7  \\\n",
              "0     0.14902  0.14902  0.14902  0.14902  0.14902  0.14902  0.14902  0.14902   \n",
              "1     0.14902  0.14902  0.14902  0.14902  0.14902  0.14902  0.14902  0.14902   \n",
              "2     0.14902  0.14902  0.14902  0.14902  0.14902  0.14902  0.14902  0.14902   \n",
              "3     0.14902  0.14902  0.14902  0.14902  0.14902  0.14902  0.14902  0.14902   \n",
              "4     0.14902  0.14902  0.14902  0.14902  0.14902  0.14902  0.14902  0.14902   \n",
              "...       ...      ...      ...      ...      ...      ...      ...      ...   \n",
              "1085  0.14902  0.14902  0.14902  0.14902  0.14902  0.14902  0.14902  0.14902   \n",
              "1086  0.14902  0.14902  0.14902  0.14902  0.14902  0.14902  0.14902  0.14902   \n",
              "1087  0.14902  0.14902  0.14902  0.14902  0.14902  0.14902  0.14902  0.14902   \n",
              "1088  0.14902  0.14902  0.14902  0.14902  0.14902  0.14902  0.14902  0.14902   \n",
              "1089  0.14902  0.14902  0.14902  0.14902  0.14902  0.14902  0.14902  0.14902   \n",
              "\n",
              "            8        9  ...    67491    67492    67493    67494    67495  \\\n",
              "0     0.14902  0.14902  ...  0.14902  0.14902  0.14902  0.14902  0.14902   \n",
              "1     0.14902  0.14902  ...  0.14902  0.14902  0.14902  0.14902  0.14902   \n",
              "2     0.14902  0.14902  ...  0.14902  0.14902  0.14902  0.14902  0.14902   \n",
              "3     0.14902  0.14902  ...  0.14902  0.14902  0.14902  0.14902  0.14902   \n",
              "4     0.14902  0.14902  ...  0.14902  0.14902  0.14902  0.14902  0.14902   \n",
              "...       ...      ...  ...      ...      ...      ...      ...      ...   \n",
              "1085  0.14902  0.14902  ...  0.14902  0.14902  0.14902  0.14902  0.14902   \n",
              "1086  0.14902  0.14902  ...  0.14902  0.14902  0.14902  0.14902  0.14902   \n",
              "1087  0.14902  0.14902  ...  0.14902  0.14902  0.14902  0.14902  0.14902   \n",
              "1088  0.14902  0.14902  ...  0.14902  0.14902  0.14902  0.14902  0.14902   \n",
              "1089  0.14902  0.14902  ...  0.14902  0.14902  0.14902  0.14902  0.14902   \n",
              "\n",
              "        67496    67497    67498    67499  Target  \n",
              "0     0.14902  0.14902  0.14902  0.14902       0  \n",
              "1     0.14902  0.14902  0.14902  0.14902       0  \n",
              "2     0.14902  0.14902  0.14902  0.14902       0  \n",
              "3     0.14902  0.14902  0.14902  0.14902       0  \n",
              "4     0.14902  0.14902  0.14902  0.14902       0  \n",
              "...       ...      ...      ...      ...     ...  \n",
              "1085  0.14902  0.14902  0.14902  0.14902       2  \n",
              "1086  0.14902  0.14902  0.14902  0.14902       2  \n",
              "1087  0.14902  0.14902  0.14902  0.14902       2  \n",
              "1088  0.14902  0.14902  0.14902  0.14902       2  \n",
              "1089  0.14902  0.14902  0.14902  0.14902       2  \n",
              "\n",
              "[1090 rows x 67501 columns]"
            ],
            "text/html": [
              "\n",
              "\n",
              "  <div id=\"df-49e477a2-6713-4cdc-949e-a0e379d0d9fb\">\n",
              "    <div class=\"colab-df-container\">\n",
              "      <div>\n",
              "<style scoped>\n",
              "    .dataframe tbody tr th:only-of-type {\n",
              "        vertical-align: middle;\n",
              "    }\n",
              "\n",
              "    .dataframe tbody tr th {\n",
              "        vertical-align: top;\n",
              "    }\n",
              "\n",
              "    .dataframe thead th {\n",
              "        text-align: right;\n",
              "    }\n",
              "</style>\n",
              "<table border=\"1\" class=\"dataframe\">\n",
              "  <thead>\n",
              "    <tr style=\"text-align: right;\">\n",
              "      <th></th>\n",
              "      <th>0</th>\n",
              "      <th>1</th>\n",
              "      <th>2</th>\n",
              "      <th>3</th>\n",
              "      <th>4</th>\n",
              "      <th>5</th>\n",
              "      <th>6</th>\n",
              "      <th>7</th>\n",
              "      <th>8</th>\n",
              "      <th>9</th>\n",
              "      <th>...</th>\n",
              "      <th>67491</th>\n",
              "      <th>67492</th>\n",
              "      <th>67493</th>\n",
              "      <th>67494</th>\n",
              "      <th>67495</th>\n",
              "      <th>67496</th>\n",
              "      <th>67497</th>\n",
              "      <th>67498</th>\n",
              "      <th>67499</th>\n",
              "      <th>Target</th>\n",
              "    </tr>\n",
              "  </thead>\n",
              "  <tbody>\n",
              "    <tr>\n",
              "      <th>0</th>\n",
              "      <td>0.14902</td>\n",
              "      <td>0.14902</td>\n",
              "      <td>0.14902</td>\n",
              "      <td>0.14902</td>\n",
              "      <td>0.14902</td>\n",
              "      <td>0.14902</td>\n",
              "      <td>0.14902</td>\n",
              "      <td>0.14902</td>\n",
              "      <td>0.14902</td>\n",
              "      <td>0.14902</td>\n",
              "      <td>...</td>\n",
              "      <td>0.14902</td>\n",
              "      <td>0.14902</td>\n",
              "      <td>0.14902</td>\n",
              "      <td>0.14902</td>\n",
              "      <td>0.14902</td>\n",
              "      <td>0.14902</td>\n",
              "      <td>0.14902</td>\n",
              "      <td>0.14902</td>\n",
              "      <td>0.14902</td>\n",
              "      <td>0</td>\n",
              "    </tr>\n",
              "    <tr>\n",
              "      <th>1</th>\n",
              "      <td>0.14902</td>\n",
              "      <td>0.14902</td>\n",
              "      <td>0.14902</td>\n",
              "      <td>0.14902</td>\n",
              "      <td>0.14902</td>\n",
              "      <td>0.14902</td>\n",
              "      <td>0.14902</td>\n",
              "      <td>0.14902</td>\n",
              "      <td>0.14902</td>\n",
              "      <td>0.14902</td>\n",
              "      <td>...</td>\n",
              "      <td>0.14902</td>\n",
              "      <td>0.14902</td>\n",
              "      <td>0.14902</td>\n",
              "      <td>0.14902</td>\n",
              "      <td>0.14902</td>\n",
              "      <td>0.14902</td>\n",
              "      <td>0.14902</td>\n",
              "      <td>0.14902</td>\n",
              "      <td>0.14902</td>\n",
              "      <td>0</td>\n",
              "    </tr>\n",
              "    <tr>\n",
              "      <th>2</th>\n",
              "      <td>0.14902</td>\n",
              "      <td>0.14902</td>\n",
              "      <td>0.14902</td>\n",
              "      <td>0.14902</td>\n",
              "      <td>0.14902</td>\n",
              "      <td>0.14902</td>\n",
              "      <td>0.14902</td>\n",
              "      <td>0.14902</td>\n",
              "      <td>0.14902</td>\n",
              "      <td>0.14902</td>\n",
              "      <td>...</td>\n",
              "      <td>0.14902</td>\n",
              "      <td>0.14902</td>\n",
              "      <td>0.14902</td>\n",
              "      <td>0.14902</td>\n",
              "      <td>0.14902</td>\n",
              "      <td>0.14902</td>\n",
              "      <td>0.14902</td>\n",
              "      <td>0.14902</td>\n",
              "      <td>0.14902</td>\n",
              "      <td>0</td>\n",
              "    </tr>\n",
              "    <tr>\n",
              "      <th>3</th>\n",
              "      <td>0.14902</td>\n",
              "      <td>0.14902</td>\n",
              "      <td>0.14902</td>\n",
              "      <td>0.14902</td>\n",
              "      <td>0.14902</td>\n",
              "      <td>0.14902</td>\n",
              "      <td>0.14902</td>\n",
              "      <td>0.14902</td>\n",
              "      <td>0.14902</td>\n",
              "      <td>0.14902</td>\n",
              "      <td>...</td>\n",
              "      <td>0.14902</td>\n",
              "      <td>0.14902</td>\n",
              "      <td>0.14902</td>\n",
              "      <td>0.14902</td>\n",
              "      <td>0.14902</td>\n",
              "      <td>0.14902</td>\n",
              "      <td>0.14902</td>\n",
              "      <td>0.14902</td>\n",
              "      <td>0.14902</td>\n",
              "      <td>0</td>\n",
              "    </tr>\n",
              "    <tr>\n",
              "      <th>4</th>\n",
              "      <td>0.14902</td>\n",
              "      <td>0.14902</td>\n",
              "      <td>0.14902</td>\n",
              "      <td>0.14902</td>\n",
              "      <td>0.14902</td>\n",
              "      <td>0.14902</td>\n",
              "      <td>0.14902</td>\n",
              "      <td>0.14902</td>\n",
              "      <td>0.14902</td>\n",
              "      <td>0.14902</td>\n",
              "      <td>...</td>\n",
              "      <td>0.14902</td>\n",
              "      <td>0.14902</td>\n",
              "      <td>0.14902</td>\n",
              "      <td>0.14902</td>\n",
              "      <td>0.14902</td>\n",
              "      <td>0.14902</td>\n",
              "      <td>0.14902</td>\n",
              "      <td>0.14902</td>\n",
              "      <td>0.14902</td>\n",
              "      <td>0</td>\n",
              "    </tr>\n",
              "    <tr>\n",
              "      <th>...</th>\n",
              "      <td>...</td>\n",
              "      <td>...</td>\n",
              "      <td>...</td>\n",
              "      <td>...</td>\n",
              "      <td>...</td>\n",
              "      <td>...</td>\n",
              "      <td>...</td>\n",
              "      <td>...</td>\n",
              "      <td>...</td>\n",
              "      <td>...</td>\n",
              "      <td>...</td>\n",
              "      <td>...</td>\n",
              "      <td>...</td>\n",
              "      <td>...</td>\n",
              "      <td>...</td>\n",
              "      <td>...</td>\n",
              "      <td>...</td>\n",
              "      <td>...</td>\n",
              "      <td>...</td>\n",
              "      <td>...</td>\n",
              "      <td>...</td>\n",
              "    </tr>\n",
              "    <tr>\n",
              "      <th>1085</th>\n",
              "      <td>0.14902</td>\n",
              "      <td>0.14902</td>\n",
              "      <td>0.14902</td>\n",
              "      <td>0.14902</td>\n",
              "      <td>0.14902</td>\n",
              "      <td>0.14902</td>\n",
              "      <td>0.14902</td>\n",
              "      <td>0.14902</td>\n",
              "      <td>0.14902</td>\n",
              "      <td>0.14902</td>\n",
              "      <td>...</td>\n",
              "      <td>0.14902</td>\n",
              "      <td>0.14902</td>\n",
              "      <td>0.14902</td>\n",
              "      <td>0.14902</td>\n",
              "      <td>0.14902</td>\n",
              "      <td>0.14902</td>\n",
              "      <td>0.14902</td>\n",
              "      <td>0.14902</td>\n",
              "      <td>0.14902</td>\n",
              "      <td>2</td>\n",
              "    </tr>\n",
              "    <tr>\n",
              "      <th>1086</th>\n",
              "      <td>0.14902</td>\n",
              "      <td>0.14902</td>\n",
              "      <td>0.14902</td>\n",
              "      <td>0.14902</td>\n",
              "      <td>0.14902</td>\n",
              "      <td>0.14902</td>\n",
              "      <td>0.14902</td>\n",
              "      <td>0.14902</td>\n",
              "      <td>0.14902</td>\n",
              "      <td>0.14902</td>\n",
              "      <td>...</td>\n",
              "      <td>0.14902</td>\n",
              "      <td>0.14902</td>\n",
              "      <td>0.14902</td>\n",
              "      <td>0.14902</td>\n",
              "      <td>0.14902</td>\n",
              "      <td>0.14902</td>\n",
              "      <td>0.14902</td>\n",
              "      <td>0.14902</td>\n",
              "      <td>0.14902</td>\n",
              "      <td>2</td>\n",
              "    </tr>\n",
              "    <tr>\n",
              "      <th>1087</th>\n",
              "      <td>0.14902</td>\n",
              "      <td>0.14902</td>\n",
              "      <td>0.14902</td>\n",
              "      <td>0.14902</td>\n",
              "      <td>0.14902</td>\n",
              "      <td>0.14902</td>\n",
              "      <td>0.14902</td>\n",
              "      <td>0.14902</td>\n",
              "      <td>0.14902</td>\n",
              "      <td>0.14902</td>\n",
              "      <td>...</td>\n",
              "      <td>0.14902</td>\n",
              "      <td>0.14902</td>\n",
              "      <td>0.14902</td>\n",
              "      <td>0.14902</td>\n",
              "      <td>0.14902</td>\n",
              "      <td>0.14902</td>\n",
              "      <td>0.14902</td>\n",
              "      <td>0.14902</td>\n",
              "      <td>0.14902</td>\n",
              "      <td>2</td>\n",
              "    </tr>\n",
              "    <tr>\n",
              "      <th>1088</th>\n",
              "      <td>0.14902</td>\n",
              "      <td>0.14902</td>\n",
              "      <td>0.14902</td>\n",
              "      <td>0.14902</td>\n",
              "      <td>0.14902</td>\n",
              "      <td>0.14902</td>\n",
              "      <td>0.14902</td>\n",
              "      <td>0.14902</td>\n",
              "      <td>0.14902</td>\n",
              "      <td>0.14902</td>\n",
              "      <td>...</td>\n",
              "      <td>0.14902</td>\n",
              "      <td>0.14902</td>\n",
              "      <td>0.14902</td>\n",
              "      <td>0.14902</td>\n",
              "      <td>0.14902</td>\n",
              "      <td>0.14902</td>\n",
              "      <td>0.14902</td>\n",
              "      <td>0.14902</td>\n",
              "      <td>0.14902</td>\n",
              "      <td>2</td>\n",
              "    </tr>\n",
              "    <tr>\n",
              "      <th>1089</th>\n",
              "      <td>0.14902</td>\n",
              "      <td>0.14902</td>\n",
              "      <td>0.14902</td>\n",
              "      <td>0.14902</td>\n",
              "      <td>0.14902</td>\n",
              "      <td>0.14902</td>\n",
              "      <td>0.14902</td>\n",
              "      <td>0.14902</td>\n",
              "      <td>0.14902</td>\n",
              "      <td>0.14902</td>\n",
              "      <td>...</td>\n",
              "      <td>0.14902</td>\n",
              "      <td>0.14902</td>\n",
              "      <td>0.14902</td>\n",
              "      <td>0.14902</td>\n",
              "      <td>0.14902</td>\n",
              "      <td>0.14902</td>\n",
              "      <td>0.14902</td>\n",
              "      <td>0.14902</td>\n",
              "      <td>0.14902</td>\n",
              "      <td>2</td>\n",
              "    </tr>\n",
              "  </tbody>\n",
              "</table>\n",
              "<p>1090 rows × 67501 columns</p>\n",
              "</div>\n",
              "      <button class=\"colab-df-convert\" onclick=\"convertToInteractive('df-49e477a2-6713-4cdc-949e-a0e379d0d9fb')\"\n",
              "              title=\"Convert this dataframe to an interactive table.\"\n",
              "              style=\"display:none;\">\n",
              "\n",
              "  <svg xmlns=\"http://www.w3.org/2000/svg\" height=\"24px\"viewBox=\"0 0 24 24\"\n",
              "       width=\"24px\">\n",
              "    <path d=\"M0 0h24v24H0V0z\" fill=\"none\"/>\n",
              "    <path d=\"M18.56 5.44l.94 2.06.94-2.06 2.06-.94-2.06-.94-.94-2.06-.94 2.06-2.06.94zm-11 1L8.5 8.5l.94-2.06 2.06-.94-2.06-.94L8.5 2.5l-.94 2.06-2.06.94zm10 10l.94 2.06.94-2.06 2.06-.94-2.06-.94-.94-2.06-.94 2.06-2.06.94z\"/><path d=\"M17.41 7.96l-1.37-1.37c-.4-.4-.92-.59-1.43-.59-.52 0-1.04.2-1.43.59L10.3 9.45l-7.72 7.72c-.78.78-.78 2.05 0 2.83L4 21.41c.39.39.9.59 1.41.59.51 0 1.02-.2 1.41-.59l7.78-7.78 2.81-2.81c.8-.78.8-2.07 0-2.86zM5.41 20L4 18.59l7.72-7.72 1.47 1.35L5.41 20z\"/>\n",
              "  </svg>\n",
              "      </button>\n",
              "\n",
              "\n",
              "\n",
              "    <div id=\"df-bf28e1c2-c878-4f9a-bf0d-839ef3e0707b\">\n",
              "      <button class=\"colab-df-quickchart\" onclick=\"quickchart('df-bf28e1c2-c878-4f9a-bf0d-839ef3e0707b')\"\n",
              "              title=\"Suggest charts.\"\n",
              "              style=\"display:none;\">\n",
              "\n",
              "<svg xmlns=\"http://www.w3.org/2000/svg\" height=\"24px\"viewBox=\"0 0 24 24\"\n",
              "     width=\"24px\">\n",
              "    <g>\n",
              "        <path d=\"M19 3H5c-1.1 0-2 .9-2 2v14c0 1.1.9 2 2 2h14c1.1 0 2-.9 2-2V5c0-1.1-.9-2-2-2zM9 17H7v-7h2v7zm4 0h-2V7h2v10zm4 0h-2v-4h2v4z\"/>\n",
              "    </g>\n",
              "</svg>\n",
              "      </button>\n",
              "    </div>\n",
              "\n",
              "<style>\n",
              "  .colab-df-quickchart {\n",
              "    background-color: #E8F0FE;\n",
              "    border: none;\n",
              "    border-radius: 50%;\n",
              "    cursor: pointer;\n",
              "    display: none;\n",
              "    fill: #1967D2;\n",
              "    height: 32px;\n",
              "    padding: 0 0 0 0;\n",
              "    width: 32px;\n",
              "  }\n",
              "\n",
              "  .colab-df-quickchart:hover {\n",
              "    background-color: #E2EBFA;\n",
              "    box-shadow: 0px 1px 2px rgba(60, 64, 67, 0.3), 0px 1px 3px 1px rgba(60, 64, 67, 0.15);\n",
              "    fill: #174EA6;\n",
              "  }\n",
              "\n",
              "  [theme=dark] .colab-df-quickchart {\n",
              "    background-color: #3B4455;\n",
              "    fill: #D2E3FC;\n",
              "  }\n",
              "\n",
              "  [theme=dark] .colab-df-quickchart:hover {\n",
              "    background-color: #434B5C;\n",
              "    box-shadow: 0px 1px 3px 1px rgba(0, 0, 0, 0.15);\n",
              "    filter: drop-shadow(0px 1px 2px rgba(0, 0, 0, 0.3));\n",
              "    fill: #FFFFFF;\n",
              "  }\n",
              "</style>\n",
              "\n",
              "    <script>\n",
              "      async function quickchart(key) {\n",
              "        const containerElement = document.querySelector('#' + key);\n",
              "        const charts = await google.colab.kernel.invokeFunction(\n",
              "            'suggestCharts', [key], {});\n",
              "      }\n",
              "    </script>\n",
              "\n",
              "      <script>\n",
              "\n",
              "function displayQuickchartButton(domScope) {\n",
              "  let quickchartButtonEl =\n",
              "    domScope.querySelector('#df-bf28e1c2-c878-4f9a-bf0d-839ef3e0707b button.colab-df-quickchart');\n",
              "  quickchartButtonEl.style.display =\n",
              "    google.colab.kernel.accessAllowed ? 'block' : 'none';\n",
              "}\n",
              "\n",
              "        displayQuickchartButton(document);\n",
              "      </script>\n",
              "      <style>\n",
              "    .colab-df-container {\n",
              "      display:flex;\n",
              "      flex-wrap:wrap;\n",
              "      gap: 12px;\n",
              "    }\n",
              "\n",
              "    .colab-df-convert {\n",
              "      background-color: #E8F0FE;\n",
              "      border: none;\n",
              "      border-radius: 50%;\n",
              "      cursor: pointer;\n",
              "      display: none;\n",
              "      fill: #1967D2;\n",
              "      height: 32px;\n",
              "      padding: 0 0 0 0;\n",
              "      width: 32px;\n",
              "    }\n",
              "\n",
              "    .colab-df-convert:hover {\n",
              "      background-color: #E2EBFA;\n",
              "      box-shadow: 0px 1px 2px rgba(60, 64, 67, 0.3), 0px 1px 3px 1px rgba(60, 64, 67, 0.15);\n",
              "      fill: #174EA6;\n",
              "    }\n",
              "\n",
              "    [theme=dark] .colab-df-convert {\n",
              "      background-color: #3B4455;\n",
              "      fill: #D2E3FC;\n",
              "    }\n",
              "\n",
              "    [theme=dark] .colab-df-convert:hover {\n",
              "      background-color: #434B5C;\n",
              "      box-shadow: 0px 1px 3px 1px rgba(0, 0, 0, 0.15);\n",
              "      filter: drop-shadow(0px 1px 2px rgba(0, 0, 0, 0.3));\n",
              "      fill: #FFFFFF;\n",
              "    }\n",
              "  </style>\n",
              "\n",
              "      <script>\n",
              "        const buttonEl =\n",
              "          document.querySelector('#df-49e477a2-6713-4cdc-949e-a0e379d0d9fb button.colab-df-convert');\n",
              "        buttonEl.style.display =\n",
              "          google.colab.kernel.accessAllowed ? 'block' : 'none';\n",
              "\n",
              "        async function convertToInteractive(key) {\n",
              "          const element = document.querySelector('#df-49e477a2-6713-4cdc-949e-a0e379d0d9fb');\n",
              "          const dataTable =\n",
              "            await google.colab.kernel.invokeFunction('convertToInteractive',\n",
              "                                                     [key], {});\n",
              "          if (!dataTable) return;\n",
              "\n",
              "          const docLinkHtml = 'Like what you see? Visit the ' +\n",
              "            '<a target=\"_blank\" href=https://colab.research.google.com/notebooks/data_table.ipynb>data table notebook</a>'\n",
              "            + ' to learn more about interactive tables.';\n",
              "          element.innerHTML = '';\n",
              "          dataTable['output_type'] = 'display_data';\n",
              "          await google.colab.output.renderOutput(dataTable, element);\n",
              "          const docLink = document.createElement('div');\n",
              "          docLink.innerHTML = docLinkHtml;\n",
              "          element.appendChild(docLink);\n",
              "        }\n",
              "      </script>\n",
              "    </div>\n",
              "  </div>\n"
            ]
          },
          "metadata": {},
          "execution_count": 8
        }
      ]
    },
    {
      "cell_type": "markdown",
      "metadata": {
        "id": "gUp5FDqIY070"
      },
      "source": [
        "Splitting the data into training and testing data"
      ]
    },
    {
      "cell_type": "code",
      "execution_count": null,
      "metadata": {
        "colab": {
          "base_uri": "https://localhost:8080/"
        },
        "id": "Jg3XHRP3OUyf",
        "outputId": "e24dc0b6-d5f5-4ebf-ab3a-4c6237ff9d5f"
      },
      "outputs": [
        {
          "output_type": "stream",
          "name": "stdout",
          "text": [
            "Splitted Successfully\n"
          ]
        }
      ],
      "source": [
        "x=df.iloc[:,:-1]\n",
        "y=df.iloc[:,-1]\n",
        "x_train,x_test,y_train,y_test=train_test_split(x,y,test_size=0.30,random_state=77,stratify=y)\n",
        "print('Splitted Successfully')"
      ]
    },
    {
      "cell_type": "markdown",
      "source": [
        "Train the model"
      ],
      "metadata": {
        "id": "ja0vlTA4-HC3"
      }
    },
    {
      "cell_type": "code",
      "execution_count": null,
      "metadata": {
        "id": "DIaIT2GlOvy6"
      },
      "outputs": [],
      "source": [
        "param_grid={'C':[0.1,1,10,100],'gamma':[0.0001,0.001,0.1,1],'kernel':['rbf','poly']}\n",
        "svc=svm.SVC(probability=True)\n",
        "print(\"The training of the model is started, please wait for while as it may take few minutes to complete\")\n",
        "model=GridSearchCV(svc,param_grid)\n",
        "model.fit(x_train,y_train)\n",
        "print('The Model is trained well with the given images')\n",
        "model.best_params_"
      ]
    },
    {
      "cell_type": "markdown",
      "metadata": {
        "id": "VWKN2_4eZZmF"
      },
      "source": [
        "Predicting our testing data"
      ]
    },
    {
      "cell_type": "code",
      "execution_count": null,
      "metadata": {
        "colab": {
          "base_uri": "https://localhost:8080/"
        },
        "id": "h7qEbNLoSAcS",
        "outputId": "d582b6f7-d5ec-4432-d8bb-6dfd63ec595f"
      },
      "outputs": [
        {
          "name": "stdout",
          "output_type": "stream",
          "text": [
            "The predicted Data is :\n"
          ]
        },
        {
          "data": {
            "text/plain": [
              "array([0, 2, 2, 2, 2, 1, 2, 1, 0, 1, 2, 1, 1, 2, 1, 2, 1, 1, 2, 1, 1, 1,\n",
              "       1, 0, 1, 1, 1, 1, 1, 1, 1, 0, 2, 1, 1, 1, 2, 1, 2, 2, 2, 0, 0, 1,\n",
              "       1, 1, 1, 0, 1, 1, 2, 1, 1, 1, 2, 2, 1, 1, 1, 1, 1, 1, 1, 2, 1, 2,\n",
              "       2, 1, 1, 2, 1, 1, 0, 2, 1, 2, 1, 2, 2, 1, 1, 1, 2, 1, 1, 2, 2, 0,\n",
              "       2, 2, 1, 1, 1, 1, 2, 1, 1, 1, 1, 2, 1, 1, 2, 1, 0, 1, 1, 1, 2, 2,\n",
              "       0, 2, 1, 1, 2, 1, 1, 1, 2, 2, 2, 1, 1, 1, 1, 1, 2, 1, 1, 0, 0, 1,\n",
              "       1, 1, 1, 2, 2, 2, 1, 1, 1, 2, 2, 1, 2, 2, 2, 1, 1, 1, 1, 1, 1, 2,\n",
              "       2, 1, 2, 2, 2, 1, 1, 1, 2, 1, 1, 1, 1, 2, 2, 2, 2, 1, 2, 1, 1, 2,\n",
              "       2, 2, 2, 2, 0, 2, 1, 0, 2, 1, 2, 2, 2, 1, 2, 2, 0, 1, 1, 1, 2, 1,\n",
              "       1, 2, 2, 0, 1, 1, 1, 2, 2, 1, 2, 1, 2, 0, 0, 1, 2, 1, 1, 1, 1, 2,\n",
              "       2, 1, 2, 2, 2, 2, 2, 2, 0, 2, 2, 1, 1, 0, 2, 2, 1, 1, 2, 2, 1, 0,\n",
              "       1, 2, 0, 2, 0, 1, 0, 2, 2, 1, 1, 2, 0, 1, 0, 2, 1, 1, 1, 2, 1, 2,\n",
              "       1, 1, 1, 2, 1, 2, 2, 2, 2, 0, 1, 2, 1, 2, 2, 1, 1, 1, 2, 1, 1, 2,\n",
              "       1, 2, 2, 1, 1, 1, 2, 1, 1, 1, 0, 1, 1, 1, 1, 0, 1, 2, 2, 2, 1, 0,\n",
              "       1, 1, 2, 1, 1, 1, 2, 2, 2, 2])"
            ]
          },
          "execution_count": 28,
          "metadata": {},
          "output_type": "execute_result"
        }
      ],
      "source": [
        "y_pred=model.predict(x_test)\n",
        "print(\"The predicted Data is :\")\n",
        "y_pred"
      ]
    },
    {
      "cell_type": "code",
      "execution_count": null,
      "metadata": {
        "colab": {
          "base_uri": "https://localhost:8080/"
        },
        "id": "A4rMJQ0HSCgU",
        "outputId": "27439125-ccf8-4e5b-99fd-29078593e17c"
      },
      "outputs": [
        {
          "name": "stdout",
          "output_type": "stream",
          "text": [
            "The actual data is:\n"
          ]
        },
        {
          "data": {
            "text/plain": [
              "array([0, 2, 2, 2, 2, 1, 2, 1, 0, 1, 2, 1, 1, 2, 1, 2, 1, 1, 2, 1, 1, 1,\n",
              "       1, 0, 1, 1, 1, 1, 1, 1, 1, 0, 2, 1, 1, 1, 2, 1, 2, 2, 2, 0, 0, 1,\n",
              "       1, 1, 1, 0, 1, 1, 2, 1, 1, 1, 2, 2, 1, 1, 1, 1, 1, 1, 1, 2, 1, 2,\n",
              "       2, 1, 1, 2, 1, 1, 0, 2, 1, 2, 1, 2, 2, 1, 1, 1, 2, 1, 1, 2, 2, 0,\n",
              "       2, 2, 1, 1, 1, 1, 2, 1, 1, 1, 1, 2, 1, 1, 2, 1, 0, 1, 1, 1, 2, 2,\n",
              "       0, 2, 1, 1, 2, 1, 1, 1, 0, 2, 2, 1, 1, 1, 1, 1, 2, 1, 1, 0, 0, 1,\n",
              "       1, 1, 1, 2, 2, 2, 1, 1, 1, 2, 2, 1, 2, 2, 2, 1, 1, 1, 1, 1, 1, 2,\n",
              "       2, 1, 2, 2, 0, 1, 1, 1, 2, 1, 1, 1, 1, 2, 2, 2, 2, 1, 2, 1, 1, 2,\n",
              "       2, 2, 2, 2, 0, 2, 1, 0, 2, 1, 2, 2, 2, 1, 2, 2, 0, 1, 1, 1, 2, 1,\n",
              "       1, 2, 2, 0, 1, 1, 1, 2, 2, 1, 2, 1, 2, 0, 0, 1, 2, 1, 1, 1, 1, 2,\n",
              "       2, 1, 2, 2, 2, 2, 2, 2, 0, 2, 2, 1, 1, 0, 2, 2, 1, 1, 2, 2, 1, 0,\n",
              "       1, 2, 0, 2, 0, 1, 0, 2, 2, 1, 1, 2, 0, 1, 0, 2, 1, 1, 1, 2, 1, 2,\n",
              "       1, 1, 1, 2, 1, 2, 2, 2, 2, 0, 1, 2, 1, 2, 2, 1, 1, 1, 2, 1, 1, 2,\n",
              "       1, 2, 2, 1, 1, 1, 2, 1, 1, 1, 0, 1, 1, 1, 1, 0, 1, 2, 2, 2, 1, 0,\n",
              "       1, 1, 2, 1, 1, 1, 2, 2, 2, 2])"
            ]
          },
          "execution_count": 29,
          "metadata": {},
          "output_type": "execute_result"
        }
      ],
      "source": [
        "print(\"The actual data is:\")\n",
        "np.array(y_test)"
      ]
    },
    {
      "cell_type": "code",
      "execution_count": null,
      "metadata": {
        "colab": {
          "base_uri": "https://localhost:8080/"
        },
        "id": "ZwXKKc5FSFMf",
        "outputId": "d3464358-7fb0-47bd-8e8b-387aaa340a70"
      },
      "outputs": [
        {
          "name": "stdout",
          "output_type": "stream",
          "text": [
            "The model is 99.37106918238993% accurate\n"
          ]
        }
      ],
      "source": [
        "print(f\"The model is {accuracy_score(y_pred,y_test)*100}% accurate\")\n"
      ]
    },
    {
      "cell_type": "markdown",
      "metadata": {
        "id": "B8rpwj-yX4hl"
      },
      "source": [
        "Using Pickle to save the model to disk"
      ]
    },
    {
      "cell_type": "code",
      "execution_count": null,
      "metadata": {
        "id": "Jf8xp5BYp_7E"
      },
      "outputs": [],
      "source": [
        "pickle.dump(model,open('img_model.p','wb'))\n",
        "print(\"Pickle is dumped successfully\")"
      ]
    },
    {
      "cell_type": "markdown",
      "source": [
        "Install Gradio"
      ],
      "metadata": {
        "id": "vLLVqUq4-B0c"
      }
    },
    {
      "cell_type": "code",
      "execution_count": null,
      "metadata": {
        "colab": {
          "base_uri": "https://localhost:8080/"
        },
        "id": "dfDjLMQUwITI",
        "outputId": "f42e976b-7379-4177-fd60-174cdf42894b"
      },
      "outputs": [
        {
          "output_type": "stream",
          "name": "stdout",
          "text": [
            "Requirement already satisfied: gradio in /usr/local/lib/python3.10/dist-packages (3.40.1)\n",
            "Requirement already satisfied: aiofiles<24.0,>=22.0 in /usr/local/lib/python3.10/dist-packages (from gradio) (23.2.1)\n",
            "Requirement already satisfied: aiohttp~=3.0 in /usr/local/lib/python3.10/dist-packages (from gradio) (3.8.5)\n",
            "Requirement already satisfied: altair<6.0,>=4.2.0 in /usr/local/lib/python3.10/dist-packages (from gradio) (4.2.2)\n",
            "Requirement already satisfied: fastapi in /usr/local/lib/python3.10/dist-packages (from gradio) (0.101.0)\n",
            "Requirement already satisfied: ffmpy in /usr/local/lib/python3.10/dist-packages (from gradio) (0.3.1)\n",
            "Requirement already satisfied: gradio-client>=0.4.0 in /usr/local/lib/python3.10/dist-packages (from gradio) (0.4.0)\n",
            "Requirement already satisfied: httpx in /usr/local/lib/python3.10/dist-packages (from gradio) (0.24.1)\n",
            "Requirement already satisfied: huggingface-hub>=0.14.0 in /usr/local/lib/python3.10/dist-packages (from gradio) (0.16.4)\n",
            "Requirement already satisfied: importlib-resources<7.0,>=1.3 in /usr/local/lib/python3.10/dist-packages (from gradio) (6.0.1)\n",
            "Requirement already satisfied: jinja2<4.0 in /usr/local/lib/python3.10/dist-packages (from gradio) (3.1.2)\n",
            "Requirement already satisfied: markdown-it-py[linkify]>=2.0.0 in /usr/local/lib/python3.10/dist-packages (from gradio) (2.2.0)\n",
            "Requirement already satisfied: markupsafe~=2.0 in /usr/local/lib/python3.10/dist-packages (from gradio) (2.1.3)\n",
            "Requirement already satisfied: matplotlib~=3.0 in /usr/local/lib/python3.10/dist-packages (from gradio) (3.7.1)\n",
            "Requirement already satisfied: mdit-py-plugins<=0.3.3 in /usr/local/lib/python3.10/dist-packages (from gradio) (0.3.3)\n",
            "Requirement already satisfied: numpy~=1.0 in /usr/local/lib/python3.10/dist-packages (from gradio) (1.23.5)\n",
            "Requirement already satisfied: orjson~=3.0 in /usr/local/lib/python3.10/dist-packages (from gradio) (3.9.4)\n",
            "Requirement already satisfied: packaging in /usr/local/lib/python3.10/dist-packages (from gradio) (23.1)\n",
            "Requirement already satisfied: pandas<3.0,>=1.0 in /usr/local/lib/python3.10/dist-packages (from gradio) (1.5.3)\n",
            "Requirement already satisfied: pillow<11.0,>=8.0 in /usr/local/lib/python3.10/dist-packages (from gradio) (9.4.0)\n",
            "Requirement already satisfied: pydantic!=1.8,!=1.8.1,!=2.0.0,!=2.0.1,<3.0.0,>=1.7.4 in /usr/local/lib/python3.10/dist-packages (from gradio) (2.1.1)\n",
            "Requirement already satisfied: pydub in /usr/local/lib/python3.10/dist-packages (from gradio) (0.25.1)\n",
            "Requirement already satisfied: python-multipart in /usr/local/lib/python3.10/dist-packages (from gradio) (0.0.6)\n",
            "Requirement already satisfied: pyyaml<7.0,>=5.0 in /usr/local/lib/python3.10/dist-packages (from gradio) (6.0.1)\n",
            "Requirement already satisfied: requests~=2.0 in /usr/local/lib/python3.10/dist-packages (from gradio) (2.31.0)\n",
            "Requirement already satisfied: semantic-version~=2.0 in /usr/local/lib/python3.10/dist-packages (from gradio) (2.10.0)\n",
            "Requirement already satisfied: typing-extensions~=4.0 in /usr/local/lib/python3.10/dist-packages (from gradio) (4.7.1)\n",
            "Requirement already satisfied: uvicorn>=0.14.0 in /usr/local/lib/python3.10/dist-packages (from gradio) (0.23.2)\n",
            "Requirement already satisfied: websockets<12.0,>=10.0 in /usr/local/lib/python3.10/dist-packages (from gradio) (11.0.3)\n",
            "Requirement already satisfied: attrs>=17.3.0 in /usr/local/lib/python3.10/dist-packages (from aiohttp~=3.0->gradio) (23.1.0)\n",
            "Requirement already satisfied: charset-normalizer<4.0,>=2.0 in /usr/local/lib/python3.10/dist-packages (from aiohttp~=3.0->gradio) (3.2.0)\n",
            "Requirement already satisfied: multidict<7.0,>=4.5 in /usr/local/lib/python3.10/dist-packages (from aiohttp~=3.0->gradio) (6.0.4)\n",
            "Requirement already satisfied: async-timeout<5.0,>=4.0.0a3 in /usr/local/lib/python3.10/dist-packages (from aiohttp~=3.0->gradio) (4.0.2)\n",
            "Requirement already satisfied: yarl<2.0,>=1.0 in /usr/local/lib/python3.10/dist-packages (from aiohttp~=3.0->gradio) (1.9.2)\n",
            "Requirement already satisfied: frozenlist>=1.1.1 in /usr/local/lib/python3.10/dist-packages (from aiohttp~=3.0->gradio) (1.4.0)\n",
            "Requirement already satisfied: aiosignal>=1.1.2 in /usr/local/lib/python3.10/dist-packages (from aiohttp~=3.0->gradio) (1.3.1)\n",
            "Requirement already satisfied: entrypoints in /usr/local/lib/python3.10/dist-packages (from altair<6.0,>=4.2.0->gradio) (0.4)\n",
            "Requirement already satisfied: jsonschema>=3.0 in /usr/local/lib/python3.10/dist-packages (from altair<6.0,>=4.2.0->gradio) (4.19.0)\n",
            "Requirement already satisfied: toolz in /usr/local/lib/python3.10/dist-packages (from altair<6.0,>=4.2.0->gradio) (0.12.0)\n",
            "Requirement already satisfied: fsspec in /usr/local/lib/python3.10/dist-packages (from gradio-client>=0.4.0->gradio) (2023.6.0)\n",
            "Requirement already satisfied: filelock in /usr/local/lib/python3.10/dist-packages (from huggingface-hub>=0.14.0->gradio) (3.12.2)\n",
            "Requirement already satisfied: tqdm>=4.42.1 in /usr/local/lib/python3.10/dist-packages (from huggingface-hub>=0.14.0->gradio) (4.66.0)\n",
            "Requirement already satisfied: mdurl~=0.1 in /usr/local/lib/python3.10/dist-packages (from markdown-it-py[linkify]>=2.0.0->gradio) (0.1.2)\n",
            "Requirement already satisfied: linkify-it-py<3,>=1 in /usr/local/lib/python3.10/dist-packages (from markdown-it-py[linkify]>=2.0.0->gradio) (2.0.2)\n",
            "Requirement already satisfied: contourpy>=1.0.1 in /usr/local/lib/python3.10/dist-packages (from matplotlib~=3.0->gradio) (1.1.0)\n",
            "Requirement already satisfied: cycler>=0.10 in /usr/local/lib/python3.10/dist-packages (from matplotlib~=3.0->gradio) (0.11.0)\n",
            "Requirement already satisfied: fonttools>=4.22.0 in /usr/local/lib/python3.10/dist-packages (from matplotlib~=3.0->gradio) (4.42.0)\n",
            "Requirement already satisfied: kiwisolver>=1.0.1 in /usr/local/lib/python3.10/dist-packages (from matplotlib~=3.0->gradio) (1.4.4)\n",
            "Requirement already satisfied: pyparsing>=2.3.1 in /usr/local/lib/python3.10/dist-packages (from matplotlib~=3.0->gradio) (3.1.1)\n",
            "Requirement already satisfied: python-dateutil>=2.7 in /usr/local/lib/python3.10/dist-packages (from matplotlib~=3.0->gradio) (2.8.2)\n",
            "Requirement already satisfied: pytz>=2020.1 in /usr/local/lib/python3.10/dist-packages (from pandas<3.0,>=1.0->gradio) (2023.3)\n",
            "Requirement already satisfied: annotated-types>=0.4.0 in /usr/local/lib/python3.10/dist-packages (from pydantic!=1.8,!=1.8.1,!=2.0.0,!=2.0.1,<3.0.0,>=1.7.4->gradio) (0.5.0)\n",
            "Requirement already satisfied: pydantic-core==2.4.0 in /usr/local/lib/python3.10/dist-packages (from pydantic!=1.8,!=1.8.1,!=2.0.0,!=2.0.1,<3.0.0,>=1.7.4->gradio) (2.4.0)\n",
            "Requirement already satisfied: idna<4,>=2.5 in /usr/local/lib/python3.10/dist-packages (from requests~=2.0->gradio) (3.4)\n",
            "Requirement already satisfied: urllib3<3,>=1.21.1 in /usr/local/lib/python3.10/dist-packages (from requests~=2.0->gradio) (2.0.4)\n",
            "Requirement already satisfied: certifi>=2017.4.17 in /usr/local/lib/python3.10/dist-packages (from requests~=2.0->gradio) (2023.7.22)\n",
            "Requirement already satisfied: click>=7.0 in /usr/local/lib/python3.10/dist-packages (from uvicorn>=0.14.0->gradio) (8.1.6)\n",
            "Requirement already satisfied: h11>=0.8 in /usr/local/lib/python3.10/dist-packages (from uvicorn>=0.14.0->gradio) (0.14.0)\n",
            "Requirement already satisfied: starlette<0.28.0,>=0.27.0 in /usr/local/lib/python3.10/dist-packages (from fastapi->gradio) (0.27.0)\n",
            "Requirement already satisfied: httpcore<0.18.0,>=0.15.0 in /usr/local/lib/python3.10/dist-packages (from httpx->gradio) (0.17.3)\n",
            "Requirement already satisfied: sniffio in /usr/local/lib/python3.10/dist-packages (from httpx->gradio) (1.3.0)\n",
            "Requirement already satisfied: anyio<5.0,>=3.0 in /usr/local/lib/python3.10/dist-packages (from httpcore<0.18.0,>=0.15.0->httpx->gradio) (3.7.1)\n",
            "Requirement already satisfied: jsonschema-specifications>=2023.03.6 in /usr/local/lib/python3.10/dist-packages (from jsonschema>=3.0->altair<6.0,>=4.2.0->gradio) (2023.7.1)\n",
            "Requirement already satisfied: referencing>=0.28.4 in /usr/local/lib/python3.10/dist-packages (from jsonschema>=3.0->altair<6.0,>=4.2.0->gradio) (0.30.2)\n",
            "Requirement already satisfied: rpds-py>=0.7.1 in /usr/local/lib/python3.10/dist-packages (from jsonschema>=3.0->altair<6.0,>=4.2.0->gradio) (0.9.2)\n",
            "Requirement already satisfied: uc-micro-py in /usr/local/lib/python3.10/dist-packages (from linkify-it-py<3,>=1->markdown-it-py[linkify]>=2.0.0->gradio) (1.0.2)\n",
            "Requirement already satisfied: six>=1.5 in /usr/local/lib/python3.10/dist-packages (from python-dateutil>=2.7->matplotlib~=3.0->gradio) (1.16.0)\n",
            "Requirement already satisfied: exceptiongroup in /usr/local/lib/python3.10/dist-packages (from anyio<5.0,>=3.0->httpcore<0.18.0,>=0.15.0->httpx->gradio) (1.1.2)\n"
          ]
        }
      ],
      "source": [
        "!pip install gradio\n",
        "import gradio as gr"
      ]
    },
    {
      "cell_type": "markdown",
      "metadata": {
        "id": "eLgoSFqUc3lW"
      },
      "source": [
        " Predicting the uploaded img\n"
      ]
    },
    {
      "cell_type": "code",
      "execution_count": null,
      "metadata": {
        "id": "6MVmsPLdS6-X",
        "colab": {
          "base_uri": "https://localhost:8080/"
        },
        "outputId": "5d57089e-a30b-4bdc-95b0-a01f7652ac78"
      },
      "outputs": [
        {
          "output_type": "stream",
          "name": "stderr",
          "text": [
            "/usr/local/lib/python3.10/dist-packages/sklearn/base.py:318: UserWarning: Trying to unpickle estimator SVC from version 1.0.2 when using version 1.2.2. This might lead to breaking code or invalid results. Use at your own risk. For more info please refer to:\n",
            "https://scikit-learn.org/stable/model_persistence.html#security-maintainability-limitations\n",
            "  warnings.warn(\n",
            "/usr/local/lib/python3.10/dist-packages/sklearn/base.py:318: UserWarning: Trying to unpickle estimator GridSearchCV from version 1.0.2 when using version 1.2.2. This might lead to breaking code or invalid results. Use at your own risk. For more info please refer to:\n",
            "https://scikit-learn.org/stable/model_persistence.html#security-maintainability-limitations\n",
            "  warnings.warn(\n"
          ]
        }
      ],
      "source": [
        "pkfile = open('/content/drive/MyDrive/Projects/Lung cancer detection using image processing/img_model.p','rb')\n",
        "model = pickle.load(pkfile)\n",
        "# model=pickle.load(open('img_model.p','rb'))\n",
        "\n",
        "def predict_image(img):\n",
        "  img_resize=resize(img,(150,150,3))\n",
        "  l=[img_resize.flatten()]\n",
        "  probability=model.predict_proba(l)\n",
        "  return {Categories[model.predict(l)[0]]}\n"
      ]
    },
    {
      "cell_type": "code",
      "execution_count": null,
      "metadata": {
        "colab": {
          "base_uri": "https://localhost:8080/",
          "height": 715
        },
        "id": "XJEE299Z4oYY",
        "outputId": "204f324c-a570-4122-c8c7-57139db4565c"
      },
      "outputs": [
        {
          "output_type": "stream",
          "name": "stderr",
          "text": [
            "<ipython-input-22-798382eaa6e0>:1: GradioDeprecationWarning: Usage of gradio.inputs is deprecated, and will not be supported in the future, please import your component from gradio.components\n",
            "  image = gr.inputs.Image(shape=(150,150))\n",
            "<ipython-input-22-798382eaa6e0>:1: GradioDeprecationWarning: `optional` parameter is deprecated, and it has no effect\n",
            "  image = gr.inputs.Image(shape=(150,150))\n"
          ]
        },
        {
          "output_type": "stream",
          "name": "stdout",
          "text": [
            "Colab notebook detected. This cell will run indefinitely so that you can see errors and logs. To turn off, set debug=False in launch().\n",
            "Running on public URL: https://7f38f3b929e9285019.gradio.live\n",
            "\n",
            "This share link expires in 72 hours. For free permanent hosting and GPU upgrades, run `gradio deploy` from Terminal to deploy to Spaces (https://huggingface.co/spaces)\n"
          ]
        },
        {
          "output_type": "display_data",
          "data": {
            "text/plain": [
              "<IPython.core.display.HTML object>"
            ],
            "text/html": [
              "<div><iframe src=\"https://7f38f3b929e9285019.gradio.live\" width=\"100%\" height=\"500\" allow=\"autoplay; camera; microphone; clipboard-read; clipboard-write;\" frameborder=\"0\" allowfullscreen></iframe></div>"
            ]
          },
          "metadata": {}
        },
        {
          "output_type": "stream",
          "name": "stdout",
          "text": [
            "Keyboard interruption in main thread... closing server.\n",
            "Killing tunnel 127.0.0.1:7862 <> https://7f38f3b929e9285019.gradio.live\n"
          ]
        },
        {
          "output_type": "execute_result",
          "data": {
            "text/plain": []
          },
          "metadata": {},
          "execution_count": 22
        }
      ],
      "source": [
        "image = gr.inputs.Image(shape=(150,150))\n",
        "gr.Interface(fn=predict_image, inputs=image, outputs=\"text\",interpretation='default').launch(share=True,debug=True)"
      ]
    }
  ],
  "metadata": {
    "colab": {
      "provenance": []
    },
    "kernelspec": {
      "display_name": "Python 3",
      "name": "python3"
    }
  },
  "nbformat": 4,
  "nbformat_minor": 0
}